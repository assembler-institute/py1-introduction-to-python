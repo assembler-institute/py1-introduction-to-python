{
 "cells": [
  {
   "cell_type": "markdown",
   "id": "5e8cd5c7",
   "metadata": {},
   "source": [
    "# LiveCoding: Introduction to Python (solutions)\n",
    "\n",
    "by [Luciano Gabbanelli](https://www.linkedin.com/in/luciano-gabbanelli-ph-d-75302218)"
   ]
  },
  {
   "cell_type": "markdown",
   "id": "912d31e4",
   "metadata": {},
   "source": [
    "<img width=80 src=\"https://media.giphy.com/media/KAq5w47R9rmTuvWOWa/giphy.gif\">\n",
    "\n",
    "<img width=150 src=\"Images/Assembler.png\">"
   ]
  },
  {
   "cell_type": "markdown",
   "id": "31dd8044",
   "metadata": {},
   "source": [
    "## Zen of Python"
   ]
  },
  {
   "cell_type": "code",
   "execution_count": 2,
   "id": "1949e531",
   "metadata": {},
   "outputs": [
    {
     "name": "stdout",
     "output_type": "stream",
     "text": [
      "Python 3.9.12\n"
     ]
    }
   ],
   "source": [
    "!python --version"
   ]
  },
  {
   "cell_type": "code",
   "execution_count": 3,
   "id": "c3f977cf",
   "metadata": {},
   "outputs": [
    {
     "name": "stdout",
     "output_type": "stream",
     "text": [
      "6.4.12\n"
     ]
    }
   ],
   "source": [
    "! jupyter notebook --version"
   ]
  },
  {
   "cell_type": "code",
   "execution_count": 4,
   "id": "a0b4682d",
   "metadata": {},
   "outputs": [
    {
     "name": "stdout",
     "output_type": "stream",
     "text": [
      "The Zen of Python, by Tim Peters\n",
      "\n",
      "Beautiful is better than ugly.\n",
      "Explicit is better than implicit.\n",
      "Simple is better than complex.\n",
      "Complex is better than complicated.\n",
      "Flat is better than nested.\n",
      "Sparse is better than dense.\n",
      "Readability counts.\n",
      "Special cases aren't special enough to break the rules.\n",
      "Although practicality beats purity.\n",
      "Errors should never pass silently.\n",
      "Unless explicitly silenced.\n",
      "In the face of ambiguity, refuse the temptation to guess.\n",
      "There should be one-- and preferably only one --obvious way to do it.\n",
      "Although that way may not be obvious at first unless you're Dutch.\n",
      "Now is better than never.\n",
      "Although never is often better than *right* now.\n",
      "If the implementation is hard to explain, it's a bad idea.\n",
      "If the implementation is easy to explain, it may be a good idea.\n",
      "Namespaces are one honking great idea -- let's do more of those!\n"
     ]
    }
   ],
   "source": [
    "import this # \"guiding principles\" for writing computer programs"
   ]
  },
  {
   "cell_type": "markdown",
   "id": "72a8f2fb",
   "metadata": {},
   "source": [
    "<img width=300 style=\"float: left;\" src=\"https://media.giphy.com/media/3s0QuxoSX6DgdnGFoE/giphy.gif\">"
   ]
  },
  {
   "cell_type": "markdown",
   "id": "6bbd8f34",
   "metadata": {},
   "source": [
    "## Built-in objects"
   ]
  },
  {
   "cell_type": "markdown",
   "id": "d4b2986d",
   "metadata": {},
   "source": [
    "Python has some simple **built−in types**, e.g.\n",
    "* **int**: integer $(\\mathbb Z)$\n",
    "* **float**: decimal numbers $($representing $\\mathbb R)$\n",
    "* **complex**: they can be thought as a 2-D plane $(xy-plane \\rightarrow ReIm-plane,\\,$ representing $\\ \\mathbb C)$\n",
    "* **str**: strings, i.e. texts\n",
    "* **bool**: booleans, represent the two truth values of logic and Boolean algebra\n",
    "\n",
    "It has also some complex **built−in types** used to store collections of data, e.g. \n",
    "* **List**: store multiple items in a single variable. It is a collection which is ordered and changeable. Allows duplicate members.\n",
    "* **Dict**: dictionaries, store data values in key:value pairs. It is a collection which is ordered (only from v. 3.7 onwards), changeable and do not allow duplicates.\n",
    "* **Tuple**: it is a collection which is ordered and immutable. Allows duplicate members. Tuples are indexed.\n",
    "* **Set**: it is a collection which is unordered, with unchangeable elements (items are, but you can remove items and add new ones), and unindexed. No duplicate members. Set intems cannot be referred to by index or key."
   ]
  },
  {
   "cell_type": "code",
   "execution_count": 5,
   "id": "4e1eaa51",
   "metadata": {},
   "outputs": [
    {
     "data": {
      "text/plain": [
       "4"
      ]
     },
     "execution_count": 5,
     "metadata": {},
     "output_type": "execute_result"
    }
   ],
   "source": [
    "# Cell for discusing type. Enter some objects and check their type: \n",
    "4"
   ]
  },
  {
   "cell_type": "code",
   "execution_count": 6,
   "id": "d9747011",
   "metadata": {},
   "outputs": [
    {
     "data": {
      "text/plain": [
       "int"
      ]
     },
     "execution_count": 6,
     "metadata": {},
     "output_type": "execute_result"
    }
   ],
   "source": [
    "type(4)"
   ]
  },
  {
   "cell_type": "code",
   "execution_count": 7,
   "id": "b21952ce",
   "metadata": {},
   "outputs": [
    {
     "data": {
      "text/plain": [
       "float"
      ]
     },
     "execution_count": 7,
     "metadata": {},
     "output_type": "execute_result"
    }
   ],
   "source": [
    "type(4.5)"
   ]
  },
  {
   "cell_type": "code",
   "execution_count": 8,
   "id": "998fa008",
   "metadata": {},
   "outputs": [
    {
     "data": {
      "text/plain": [
       "str"
      ]
     },
     "execution_count": 8,
     "metadata": {},
     "output_type": "execute_result"
    }
   ],
   "source": [
    "type(\"4\")"
   ]
  },
  {
   "cell_type": "markdown",
   "id": "d6d8cf97",
   "metadata": {},
   "source": [
    "_In Python, if it is in quotation marks, then it is a string!_"
   ]
  },
  {
   "cell_type": "code",
   "execution_count": 9,
   "id": "14005caf",
   "metadata": {
    "scrolled": true
   },
   "outputs": [
    {
     "ename": "NameError",
     "evalue": "name 'Luciano' is not defined",
     "output_type": "error",
     "traceback": [
      "\u001b[1;31m---------------------------------------------------------------------------\u001b[0m",
      "\u001b[1;31mNameError\u001b[0m                                 Traceback (most recent call last)",
      "Input \u001b[1;32mIn [9]\u001b[0m, in \u001b[0;36m<cell line: 1>\u001b[1;34m()\u001b[0m\n\u001b[1;32m----> 1\u001b[0m \u001b[38;5;28mtype\u001b[39m(\u001b[43mLuciano\u001b[49m)\n",
      "\u001b[1;31mNameError\u001b[0m: name 'Luciano' is not defined"
     ]
    }
   ],
   "source": [
    "type(Luciano)"
   ]
  },
  {
   "cell_type": "code",
   "execution_count": 10,
   "id": "483f4239",
   "metadata": {
    "scrolled": true
   },
   "outputs": [
    {
     "data": {
      "text/plain": [
       "str"
      ]
     },
     "execution_count": 10,
     "metadata": {},
     "output_type": "execute_result"
    }
   ],
   "source": [
    "type(\"l.gabbanelli@assemblerschool.com\")"
   ]
  },
  {
   "cell_type": "code",
   "execution_count": 11,
   "id": "ac71c2d6",
   "metadata": {},
   "outputs": [
    {
     "data": {
      "text/plain": [
       "complex"
      ]
     },
     "execution_count": 11,
     "metadata": {},
     "output_type": "execute_result"
    }
   ],
   "source": [
    "# Why then is this well defined?\n",
    "type(1j)"
   ]
  },
  {
   "cell_type": "markdown",
   "id": "1bb3163d",
   "metadata": {},
   "source": [
    "***Booleans*** are a data type that takes either `True` or `False` values."
   ]
  },
  {
   "cell_type": "code",
   "execution_count": 12,
   "id": "8fe83203",
   "metadata": {},
   "outputs": [
    {
     "data": {
      "text/plain": [
       "False"
      ]
     },
     "execution_count": 12,
     "metadata": {},
     "output_type": "execute_result"
    }
   ],
   "source": [
    "# Run this cell: \n",
    "False"
   ]
  },
  {
   "cell_type": "code",
   "execution_count": 13,
   "id": "7a019717",
   "metadata": {},
   "outputs": [
    {
     "data": {
      "text/plain": [
       "True"
      ]
     },
     "execution_count": 13,
     "metadata": {},
     "output_type": "execute_result"
    }
   ],
   "source": [
    "# Enter a sentence that results in a boolean:\n",
    "6 > 5"
   ]
  },
  {
   "cell_type": "markdown",
   "id": "087802fb",
   "metadata": {},
   "source": [
    "Shortcuts!  In command mode (blue), press\n",
    "* C :   copy the cell ( ≠ ctrl + C )\n",
    "* V :   paste the cell ( ≠ ctrl + V )"
   ]
  },
  {
   "cell_type": "code",
   "execution_count": 14,
   "id": "b1f26bf1",
   "metadata": {},
   "outputs": [
    {
     "data": {
      "text/plain": [
       "bool"
      ]
     },
     "execution_count": 14,
     "metadata": {},
     "output_type": "execute_result"
    }
   ],
   "source": [
    "# Find out the `type()` of the previous statement. This time type `ty` and press tab key\n",
    "type(4 > 5)"
   ]
  },
  {
   "cell_type": "code",
   "execution_count": 15,
   "id": "7f3150cc",
   "metadata": {
    "scrolled": true
   },
   "outputs": [
    {
     "ename": "NameError",
     "evalue": "name 'Verdad' is not defined",
     "output_type": "error",
     "traceback": [
      "\u001b[1;31m---------------------------------------------------------------------------\u001b[0m",
      "\u001b[1;31mNameError\u001b[0m                                 Traceback (most recent call last)",
      "Input \u001b[1;32mIn [15]\u001b[0m, in \u001b[0;36m<cell line: 2>\u001b[1;34m()\u001b[0m\n\u001b[0;32m      1\u001b[0m \u001b[38;5;66;03m# What do you expect this cell to return?\u001b[39;00m\n\u001b[1;32m----> 2\u001b[0m \u001b[43mVerdad\u001b[49m\n",
      "\u001b[1;31mNameError\u001b[0m: name 'Verdad' is not defined"
     ]
    }
   ],
   "source": [
    "# What do you expect this cell to return?\n",
    "Verdad"
   ]
  },
  {
   "cell_type": "markdown",
   "id": "36047b5e",
   "metadata": {},
   "source": [
    "**Built−in types used to store collections of data:**"
   ]
  },
  {
   "cell_type": "code",
   "execution_count": 16,
   "id": "f0de65f9",
   "metadata": {},
   "outputs": [
    {
     "data": {
      "text/plain": [
       "list"
      ]
     },
     "execution_count": 16,
     "metadata": {},
     "output_type": "execute_result"
    }
   ],
   "source": [
    "# Cell to discuss. Enter some objects: \n",
    "type([1,2,3])"
   ]
  },
  {
   "cell_type": "code",
   "execution_count": 17,
   "id": "ce0134b0",
   "metadata": {},
   "outputs": [
    {
     "data": {
      "text/plain": [
       "tuple"
      ]
     },
     "execution_count": 17,
     "metadata": {},
     "output_type": "execute_result"
    }
   ],
   "source": [
    "type((1,'apple',3))"
   ]
  },
  {
   "cell_type": "code",
   "execution_count": 18,
   "id": "fc75ff51",
   "metadata": {},
   "outputs": [
    {
     "data": {
      "text/plain": [
       "set"
      ]
     },
     "execution_count": 18,
     "metadata": {},
     "output_type": "execute_result"
    }
   ],
   "source": [
    "type({1,2,2,3})"
   ]
  },
  {
   "cell_type": "code",
   "execution_count": 19,
   "id": "24e2eb26",
   "metadata": {},
   "outputs": [
    {
     "data": {
      "text/plain": [
       "{1, 2, 3}"
      ]
     },
     "execution_count": 19,
     "metadata": {},
     "output_type": "execute_result"
    }
   ],
   "source": [
    "{1,2,2,3}"
   ]
  },
  {
   "cell_type": "code",
   "execution_count": 20,
   "id": "0800008b",
   "metadata": {},
   "outputs": [],
   "source": [
    "planet_earth = {\n",
    "    \"name\": \"Earth\",\n",
    "    \"surface_gravity\": 9.8, # in m/s\n",
    "    \"is_there_life\": True\n",
    "}"
   ]
  },
  {
   "cell_type": "code",
   "execution_count": 21,
   "id": "f79490eb",
   "metadata": {},
   "outputs": [
    {
     "data": {
      "text/plain": [
       "{'name': 'Earth', 'surface_gravity': 9.8, 'is_there_life': True}"
      ]
     },
     "execution_count": 21,
     "metadata": {},
     "output_type": "execute_result"
    }
   ],
   "source": [
    "planet_earth"
   ]
  },
  {
   "cell_type": "code",
   "execution_count": 22,
   "id": "e9f0fc7d",
   "metadata": {},
   "outputs": [
    {
     "data": {
      "text/plain": [
       "dict"
      ]
     },
     "execution_count": 22,
     "metadata": {},
     "output_type": "execute_result"
    }
   ],
   "source": [
    "type(planet_earth)"
   ]
  },
  {
   "cell_type": "markdown",
   "id": "3dcca283",
   "metadata": {},
   "source": [
    "### Variables to store objects"
   ]
  },
  {
   "cell_type": "markdown",
   "id": "2c4339b1",
   "metadata": {},
   "source": [
    "Variables are ways of storing information. Objects can be stored in variables\n",
    "\n",
    "> **Syntax:**   `name_of_variable = object`"
   ]
  },
  {
   "cell_type": "markdown",
   "id": "84336d5f-e199-4d23-b9f2-85cb03b88987",
   "metadata": {},
   "source": [
    "**Conventions and style:**\n",
    "- A variable name must start with a letter or the underscore character.\n",
    "- A variable name can only contain alpha-numeric characters and underscores (A−z, 0−9, and _ ).\n",
    "- A variable name cannot start with a number.\n",
    "- Variable names are case-sensitive (age, Age and AGE are three different variables).\n",
    "- It is good programming practice for variable and function names to be in lowercase, with words separated by underscores to improve readability."
   ]
  },
  {
   "cell_type": "markdown",
   "id": "8f886350-ac28-45d9-a121-cf964655f6bb",
   "metadata": {},
   "source": [
    "**Task:** On Earth, the acceleration due to gravity is 9.8 m/s<sup>2</sup>, if the value of the acceleration on the Moon's surface is about 16.6% of the acceleration on the Earth's surface, what is its value? Round the result to two decimal places."
   ]
  },
  {
   "cell_type": "code",
   "execution_count": 23,
   "id": "5ebd732f",
   "metadata": {},
   "outputs": [],
   "source": [
    "acc_earth = 9.8"
   ]
  },
  {
   "cell_type": "markdown",
   "id": "79dd88a1",
   "metadata": {},
   "source": [
    "$ \\text{100%}\\qquad \\vcenter{\\rule{2cm}{.5pt}}\\qquad \\text{acc_earth = 9.8 m/s}^2   $\n",
    "\n",
    "$ \\text{  16% }\\qquad \\vcenter{\\rule{2cm}{.5pt}}\\qquad \\text{acc_moon = ?} $\n",
    "\n",
    "Then,\n",
    "\n",
    "$$\\text{acc_moon} \\quad=\\quad \\frac{16\\text{%}\\ *\\ 9.8 \\text{m/s}^2}{100\\text{%}} $$"
   ]
  },
  {
   "cell_type": "code",
   "execution_count": 24,
   "id": "c9ce077f",
   "metadata": {},
   "outputs": [
    {
     "name": "stdout",
     "output_type": "stream",
     "text": [
      "1.6268000000000002\n"
     ]
    }
   ],
   "source": [
    "# Enter your code here:\n",
    "acc_moon = acc_earth * 0.166\n",
    "print(acc_moon)"
   ]
  },
  {
   "cell_type": "code",
   "execution_count": 25,
   "id": "6d1ba662",
   "metadata": {},
   "outputs": [
    {
     "data": {
      "text/plain": [
       "1.6268000000000002"
      ]
     },
     "execution_count": 25,
     "metadata": {},
     "output_type": "execute_result"
    }
   ],
   "source": [
    "acc_moon # Other option is just to call for the variable, i.e. ac_moon (without print). The output is equivalent."
   ]
  },
  {
   "cell_type": "code",
   "execution_count": 26,
   "id": "b00af86c",
   "metadata": {},
   "outputs": [
    {
     "data": {
      "text/plain": [
       "1.63"
      ]
     },
     "execution_count": 26,
     "metadata": {},
     "output_type": "execute_result"
    }
   ],
   "source": [
    "# Tip: use the round() function. Returns the float number rounded to the given decimal places as input.\n",
    "# By default, the number of decimals is 0, meaning that the function will return the nearest integer.\n",
    "round(acc_moon, 2)"
   ]
  },
  {
   "cell_type": "code",
   "execution_count": 27,
   "id": "a4445265",
   "metadata": {},
   "outputs": [
    {
     "data": {
      "text/plain": [
       "float"
      ]
     },
     "execution_count": 27,
     "metadata": {},
     "output_type": "execute_result"
    }
   ],
   "source": [
    "type(acc_moon)"
   ]
  },
  {
   "cell_type": "markdown",
   "id": "da704f38",
   "metadata": {},
   "source": [
    "What is the value of the variable `acc_moon` ?  1.6268000000000002 or 1.63 ?\n",
    "\n",
    "> - By the way, to denote a word or phrase as `fancy_code`, enclose it in backticks ( \\` ).\n",
    ">\n",
    "> - You can use also *Italics* (using \\* or \\_), __Bold__ (using two \\*\\* or __) or ***both*** (with three \\*\\*\\*).\n",
    ">\n",
    "> - Use \\> for blockquotes\n",
    "    > - and \\- (or \\* or \\+) for itemize.\n",
    "        > - By convention, always use the same character for items.\n",
    "        > - Indentation changes the item symbol.\n",
    "        > - 4 spaces $\\equiv$ 1 tab.\n",
    ">\n",
    "> - Inline $\\LaTeX$ formulas makes your *Notebook* **awsome**: \n",
    "\n",
    "$$x'(t) = \\lim_{\\Delta t\\to 0} \\frac{x(t+\\Delta t)-x(t)}{\\Delta t} $$"
   ]
  },
  {
   "cell_type": "markdown",
   "id": "bfc1ccfa",
   "metadata": {},
   "source": [
    "## The `print()` function"
   ]
  },
  {
   "cell_type": "markdown",
   "id": "7cf9801b",
   "metadata": {},
   "source": [
    "This function prints the specified message.\n",
    "The message can be any object, but it will be converted into a string before written to the screen.\n",
    "\n",
    "> **Syntax:** `print(object(s), sep=separator)`\n",
    ">\n",
    "> **object**: as many as you like\n",
    ">\n",
    "> **sep** = 'separator': Optional. Specify how to separate the objects. Default is `' '` \n"
   ]
  },
  {
   "cell_type": "markdown",
   "id": "244bf02a",
   "metadata": {},
   "source": [
    "More on ***shortcuts***!\n",
    "\n",
    "Press shift + tab inside the print() parenthesis:\n",
    "\n",
    "* 1 time   &rarr;   documentation\n",
    "* 2 times  &rarr;   extended documentation\n",
    "* 4 times  &rarr;   documentation in a pager"
   ]
  },
  {
   "cell_type": "code",
   "execution_count": 28,
   "id": "14a5ed9f",
   "metadata": {},
   "outputs": [
    {
     "name": "stdout",
     "output_type": "stream",
     "text": [
      "Welcome to Assembler\n"
     ]
    }
   ],
   "source": [
    "print('Welcome', 'to', 'Assembler')"
   ]
  },
  {
   "cell_type": "markdown",
   "id": "93e6d2c7",
   "metadata": {},
   "source": [
    "- Print a message indicating the acceleration at the earth's surface:"
   ]
  },
  {
   "cell_type": "code",
   "execution_count": 29,
   "id": "03f93d77",
   "metadata": {},
   "outputs": [
    {
     "name": "stdout",
     "output_type": "stream",
     "text": [
      "Earth acceleration\n",
      "\t=\n",
      "\t\t9.8 m/s²"
     ]
    }
   ],
   "source": [
    "# Try \\n and \\t in the print function. What are they ment for?\n",
    "# Type the code here:\n",
    "print('Earth acceleration',acc_earth, sep='\\n\\t=\\n\\t\\t', end = ' m/s\\u00b2')"
   ]
  },
  {
   "cell_type": "markdown",
   "id": "502e2b4b",
   "metadata": {},
   "source": [
    "- Define two variables with your name and age and print them on the screen:"
   ]
  },
  {
   "cell_type": "code",
   "execution_count": 30,
   "id": "233633dd",
   "metadata": {},
   "outputs": [
    {
     "name": "stdout",
     "output_type": "stream",
     "text": [
      "My name is Luciano and I am 18 years old.\n"
     ]
    }
   ],
   "source": [
    "# Type the code here:\n",
    "name = 'Luciano'\n",
    "age = 18\n",
    "print('My name is ' + name + ' and I am ' + str(age) + ' years old.')"
   ]
  },
  {
   "cell_type": "markdown",
   "id": "e4266f5f",
   "metadata": {},
   "source": [
    "### Old string formatting\n",
    "\n",
    "Take a look at [Old-string-formatting](https://docs.python.org/3/library/stdtypes.html#old-string-formatting)\n",
    "\n",
    "- Print the value of π rounded to two decimal places using the old string format.\n",
    "\n",
    "**Tip:** In the programming world, a library is a collection of related modules (precompiled codes) that can be used later on in a program for some specific well-defined operations. Some useful libraries are, for example, math, NumPy, Pandas, etc..\n",
    "\n",
    "You can find the π number in one of those libraries ;)"
   ]
  },
  {
   "cell_type": "code",
   "execution_count": 31,
   "id": "10b08545",
   "metadata": {},
   "outputs": [
    {
     "name": "stdout",
     "output_type": "stream",
     "text": [
      "The value of pi (π) is approximately 3.14.\n"
     ]
    }
   ],
   "source": [
    "# Less common mathematical functions are defined inside libraries.\n",
    "# Type the code here:\n",
    "import math\n",
    "print('The value of pi (%s) is approximately %.2f.' % ('\\u03C0', math.pi)) # f stands for floating point decimal format, .2 the decimals."
   ]
  },
  {
   "cell_type": "markdown",
   "id": "1e936626",
   "metadata": {},
   "source": [
    "### The `str.format()` method"
   ]
  },
  {
   "cell_type": "markdown",
   "id": "634fc2ea",
   "metadata": {},
   "source": [
    "Fancier output formatting: literal text may be accompanied by \"replacement fields\" delimited by braces (or curly brackets) { }. Each replacement field is replaced with the string value of the corresponding argument.\n",
    "\n",
    "- Print the accelerations on the Earth and on the Moon using the `str.format()` method:"
   ]
  },
  {
   "cell_type": "code",
   "execution_count": 32,
   "id": "ffd8d17f",
   "metadata": {},
   "outputs": [
    {
     "name": "stdout",
     "output_type": "stream",
     "text": [
      "The acceleration of the Earth is 9.8 m/s², while it is 1.6268000000000002 m/s² on the Moon \n"
     ]
    }
   ],
   "source": [
    "# Type the code here:\n",
    "print('The acceleration of the {0} is {1} m/s\\u00b2, while it is {2} m/s\\u00b2 on the {satellite} '.format(\n",
    "    'Earth', acc_earth, acc_moon, satellite='Moon'))"
   ]
  },
  {
   "cell_type": "markdown",
   "id": "6eaf8cc7",
   "metadata": {},
   "source": [
    "### Formatted string literals or, simply, f−strings"
   ]
  },
  {
   "cell_type": "markdown",
   "id": "f033fd6b",
   "metadata": {},
   "source": [
    "These format joined the party in Python 3.6. \n",
    "To use it, enter an 'f' (or 'F') before the opening quotation mark. Expressions between {variable} refer to variables. While other string literals always have a constant value, formatted strings are really expressions evaluated at run time."
   ]
  },
  {
   "cell_type": "code",
   "execution_count": 33,
   "id": "3e4f571c",
   "metadata": {},
   "outputs": [
    {
     "data": {
      "text/plain": [
       "'74'"
      ]
     },
     "execution_count": 33,
     "metadata": {},
     "output_type": "execute_result"
    }
   ],
   "source": [
    "f\"{2 * 37}\""
   ]
  },
  {
   "cell_type": "markdown",
   "id": "3bef9ba7",
   "metadata": {},
   "source": [
    "- Print the acceleration on Earth using f-strings:"
   ]
  },
  {
   "cell_type": "code",
   "execution_count": 34,
   "id": "dc4ae104",
   "metadata": {},
   "outputs": [
    {
     "name": "stdout",
     "output_type": "stream",
     "text": [
      "Earth acceleration: 9.8 m/s²\n"
     ]
    }
   ],
   "source": [
    "# Type the code here:\n",
    "\n",
    "print(f'Earth acceleration: {acc_earth} m/s\\u00b2')"
   ]
  },
  {
   "cell_type": "markdown",
   "id": "f6608e88",
   "metadata": {},
   "source": [
    "### Extras"
   ]
  },
  {
   "cell_type": "markdown",
   "id": "b1471a63",
   "metadata": {},
   "source": [
    "A review on old-school string formating and f-strings can be found in [An Improved String Formatting Syntax (Guide)](https://realpython.com/python-f-strings/).\n",
    "\n",
    "Besides, you can read all about f-strings it in [PEP 498](https://peps.python.org/pep-0498/)."
   ]
  },
  {
   "cell_type": "markdown",
   "id": "d8d0cf29",
   "metadata": {},
   "source": [
    "## The `input()` function "
   ]
  },
  {
   "cell_type": "markdown",
   "id": "4e0e104a",
   "metadata": {},
   "source": [
    "**`input()`** function\n",
    "\n",
    "This function takes user input. By default, it returns the user input in form of a string.\n",
    "\n",
    "> **Syntax**: `input(prompt)`\n",
    ">\n",
    "> **Parameter** is a prompt: a string representing a default message indicating the required input (optional)\n",
    ">\n",
    "> **Return**: a string object"
   ]
  },
  {
   "cell_type": "markdown",
   "id": "357df2a1",
   "metadata": {},
   "source": [
    "**Task:** Request name and age as input and print them on screen."
   ]
  },
  {
   "cell_type": "code",
   "execution_count": 1,
   "id": "04d04078",
   "metadata": {},
   "outputs": [
    {
     "name": "stdout",
     "output_type": "stream",
     "text": [
      "Please, enter your name: Luciano\n",
      "and now your age: 18\n",
      "The name of the user is Luciano and his/her age is 18\n"
     ]
    }
   ],
   "source": [
    "# Type the code here:\n",
    "name = input('Please, enter your name: ')\n",
    "age = input('and now your age: ')\n",
    "\n",
    "print(\"The name of the user is {} and his/her age is {}\".format(name, age))"
   ]
  },
  {
   "cell_type": "markdown",
   "id": "8344d68d",
   "metadata": {},
   "source": [
    "## Conversion between `float`, `int` and `str`"
   ]
  },
  {
   "cell_type": "code",
   "execution_count": 28,
   "id": "02ec8204",
   "metadata": {},
   "outputs": [
    {
     "data": {
      "text/plain": [
       "int"
      ]
     },
     "execution_count": 28,
     "metadata": {},
     "output_type": "execute_result"
    }
   ],
   "source": [
    "# Type the code here:\n",
    "a = 11\n",
    "type(a)"
   ]
  },
  {
   "cell_type": "code",
   "execution_count": 31,
   "id": "771c1e83",
   "metadata": {},
   "outputs": [],
   "source": [
    "a = float(a)"
   ]
  },
  {
   "cell_type": "code",
   "execution_count": 32,
   "id": "86078823",
   "metadata": {},
   "outputs": [
    {
     "data": {
      "text/plain": [
       "float"
      ]
     },
     "execution_count": 32,
     "metadata": {},
     "output_type": "execute_result"
    }
   ],
   "source": [
    "type(a)"
   ]
  },
  {
   "cell_type": "code",
   "execution_count": 33,
   "id": "5897d56c",
   "metadata": {},
   "outputs": [
    {
     "ename": "ValueError",
     "evalue": "could not convert string to float: '4r'",
     "output_type": "error",
     "traceback": [
      "\u001b[1;31m---------------------------------------------------------------------------\u001b[0m",
      "\u001b[1;31mValueError\u001b[0m                                Traceback (most recent call last)",
      "Input \u001b[1;32mIn [33]\u001b[0m, in \u001b[0;36m<cell line: 1>\u001b[1;34m()\u001b[0m\n\u001b[1;32m----> 1\u001b[0m \u001b[38;5;28;43mfloat\u001b[39;49m\u001b[43m(\u001b[49m\u001b[38;5;124;43m\"\u001b[39;49m\u001b[38;5;124;43m4r\u001b[39;49m\u001b[38;5;124;43m\"\u001b[39;49m\u001b[43m)\u001b[49m\n",
      "\u001b[1;31mValueError\u001b[0m: could not convert string to float: '4r'"
     ]
    }
   ],
   "source": [
    "float(\"4r\")"
   ]
  },
  {
   "cell_type": "code",
   "execution_count": 34,
   "id": "8e1dfbac",
   "metadata": {},
   "outputs": [
    {
     "data": {
      "text/plain": [
       "3"
      ]
     },
     "execution_count": 34,
     "metadata": {},
     "output_type": "execute_result"
    }
   ],
   "source": [
    "int(3.5)"
   ]
  },
  {
   "cell_type": "code",
   "execution_count": 35,
   "id": "5bd12074",
   "metadata": {},
   "outputs": [
    {
     "data": {
      "text/plain": [
       "24"
      ]
     },
     "execution_count": 35,
     "metadata": {},
     "output_type": "execute_result"
    }
   ],
   "source": [
    "int(\"24\")"
   ]
  },
  {
   "cell_type": "code",
   "execution_count": 36,
   "id": "719ff5ad",
   "metadata": {},
   "outputs": [
    {
     "data": {
      "text/plain": [
       "'18.0'"
      ]
     },
     "execution_count": 36,
     "metadata": {},
     "output_type": "execute_result"
    }
   ],
   "source": [
    "str(4*4.5)"
   ]
  },
  {
   "cell_type": "markdown",
   "id": "0c20f003",
   "metadata": {},
   "source": [
    "**Task:** Enter two numbers as input and calculate the sum between them. Print the result on the screen.\n",
    "\n",
    "*Watch out!* Remember how string addition works, is that really what you want?"
   ]
  },
  {
   "cell_type": "code",
   "execution_count": 11,
   "id": "54b48016",
   "metadata": {},
   "outputs": [
    {
     "name": "stdout",
     "output_type": "stream",
     "text": [
      "Enter the first number: 6\n",
      "Enter the second one: 4\n",
      "The sum of the two given numbers is 10\n"
     ]
    }
   ],
   "source": [
    "# Type the code here:\n",
    "num1 = int(input(\"Enter the first number: \"))\n",
    "num2 = int(input(\"Enter the second one: \"))\n",
    "\n",
    "addition = num1 + num2\n",
    "\n",
    "print('The sum of the two given numbers is {}'.format(addition))"
   ]
  },
  {
   "cell_type": "markdown",
   "id": "d3337ea7",
   "metadata": {},
   "source": [
    "## Built−in functions and operators\n",
    "\n",
    "### Basic arithmetic operators"
   ]
  },
  {
   "cell_type": "markdown",
   "id": "025e3767",
   "metadata": {},
   "source": [
    "| Arithmetic Operators | Description  |\n",
    "| :---: | :---: |\n",
    "| `+` | addition |\n",
    "| `-` | subtraction |\n",
    "| `*` | multiplication |\n",
    "| `/` | division |\n",
    "| `//` | floor division |\n",
    "| `%` | modulus |\n",
    "| `**` | power / exponentiation |"
   ]
  },
  {
   "cell_type": "markdown",
   "id": "68a13baf",
   "metadata": {},
   "source": [
    "Let `a`, `b` and `c` be two variables (`a` and `b` integers, and `c` a floating point number), apply the last four operators on them, and interpret:"
   ]
  },
  {
   "cell_type": "code",
   "execution_count": 36,
   "id": "e770c095",
   "metadata": {},
   "outputs": [],
   "source": [
    "# Let us define 3 variables a, b, c.\n",
    "# Type the code here:\n",
    "a = 11\n",
    "b = 2\n",
    "c = -0.5"
   ]
  },
  {
   "cell_type": "markdown",
   "id": "aaa3a25e",
   "metadata": {},
   "source": [
    "Operators:"
   ]
  },
  {
   "cell_type": "code",
   "execution_count": 37,
   "id": "927e6b8f",
   "metadata": {},
   "outputs": [
    {
     "data": {
      "text/plain": [
       "5.5"
      ]
     },
     "execution_count": 37,
     "metadata": {},
     "output_type": "execute_result"
    }
   ],
   "source": [
    "# Divide them.\n",
    "# Type the code here:\n",
    "a / b"
   ]
  },
  {
   "cell_type": "code",
   "execution_count": 38,
   "id": "c28c0386",
   "metadata": {},
   "outputs": [
    {
     "data": {
      "text/plain": [
       "5"
      ]
     },
     "execution_count": 38,
     "metadata": {},
     "output_type": "execute_result"
    }
   ],
   "source": [
    "# Floor division. The double slash operator does not return the fractional part of the floating-point result.\n",
    "# Type the code here:\n",
    "a // b"
   ]
  },
  {
   "cell_type": "code",
   "execution_count": 39,
   "id": "e0c164c0",
   "metadata": {},
   "outputs": [
    {
     "data": {
      "text/plain": [
       "1"
      ]
     },
     "execution_count": 39,
     "metadata": {},
     "output_type": "execute_result"
    }
   ],
   "source": [
    "# The modulus operator return the remainder of a division.\n",
    "# Type the code here:\n",
    "a % b"
   ]
  },
  {
   "cell_type": "code",
   "execution_count": 40,
   "id": "cda872f2",
   "metadata": {},
   "outputs": [
    {
     "data": {
      "text/plain": [
       "121"
      ]
     },
     "execution_count": 40,
     "metadata": {},
     "output_type": "execute_result"
    }
   ],
   "source": [
    "# Exponentiation.\n",
    "# Type the code here:\n",
    "a ** b"
   ]
  },
  {
   "cell_type": "markdown",
   "id": "fdaadad2",
   "metadata": {},
   "source": [
    "Some more examples?"
   ]
  },
  {
   "cell_type": "code",
   "execution_count": 41,
   "id": "2a4d0b3e",
   "metadata": {},
   "outputs": [
    {
     "data": {
      "text/plain": [
       "0.5"
      ]
     },
     "execution_count": 41,
     "metadata": {},
     "output_type": "execute_result"
    }
   ],
   "source": [
    "# Absolute value.\n",
    "# Type the code here:\n",
    "abs(c)"
   ]
  },
  {
   "cell_type": "code",
   "execution_count": 42,
   "id": "8d2057f3",
   "metadata": {},
   "outputs": [
    {
     "data": {
      "text/plain": [
       "2.0"
      ]
     },
     "execution_count": 42,
     "metadata": {},
     "output_type": "execute_result"
    }
   ],
   "source": [
    "# As we have imported math libraty before, we do not need to call it again.\n",
    "math.log10(100)"
   ]
  },
  {
   "cell_type": "markdown",
   "id": "ff59c7fe",
   "metadata": {},
   "source": [
    "Because\n",
    "\n",
    "$$\\log_{a}b=c \\quad\\Longleftrightarrow\\quad a^c=b$$\n",
    "\n",
    "***\n",
    "\n",
    "More details can be found in the documentation. Get used to using it!!!\n",
    "\n",
    "[**Python Math Library**](https://docs.python.org/3/library/math.html)\n",
    "\n",
    "***\n"
   ]
  },
  {
   "cell_type": "markdown",
   "id": "c2781743",
   "metadata": {},
   "source": [
    "### Comparison (relational) operators"
   ]
  },
  {
   "cell_type": "markdown",
   "id": "b44b2abf",
   "metadata": {},
   "source": [
    "Compare numbers or strings and decide the relation among them.\n",
    "These operators do not return a numeric value like arithmetic expressions do, but instead return 1, which represents **True**, or 0, which represents **False**.\n",
    "\n",
    "| Relational Operators | Description  |\n",
    "| :---: | :---: |\n",
    "| `==` | equal to. If the values are equal, then True |\n",
    "| `!=` | NOT equal to. If values of two operands are not equal, then condition becomes True.  |\n",
    "| `< , >` | smaller than, greater than |\n",
    "| `<= , >=` | smaller than or equal to, greater than or equal to |"
   ]
  },
  {
   "cell_type": "code",
   "execution_count": 43,
   "id": "06a1471d",
   "metadata": {},
   "outputs": [
    {
     "ename": "SyntaxError",
     "evalue": "cannot assign to literal (1872368816.py, line 1)",
     "output_type": "error",
     "traceback": [
      "\u001b[1;36m  Input \u001b[1;32mIn [43]\u001b[1;36m\u001b[0m\n\u001b[1;33m    4 = 3\u001b[0m\n\u001b[1;37m    ^\u001b[0m\n\u001b[1;31mSyntaxError\u001b[0m\u001b[1;31m:\u001b[0m cannot assign to literal\n"
     ]
    }
   ],
   "source": [
    "# What do you expect from this command?\n",
    "4 = 3"
   ]
  },
  {
   "cell_type": "code",
   "execution_count": 44,
   "id": "1756a4f7",
   "metadata": {},
   "outputs": [
    {
     "data": {
      "text/plain": [
       "False"
      ]
     },
     "execution_count": 44,
     "metadata": {},
     "output_type": "execute_result"
    }
   ],
   "source": [
    "# equal to\n",
    "# Type the code here:\n",
    "a == 13"
   ]
  },
  {
   "cell_type": "code",
   "execution_count": 45,
   "id": "d007af26",
   "metadata": {},
   "outputs": [
    {
     "data": {
      "text/plain": [
       "True"
      ]
     },
     "execution_count": 45,
     "metadata": {},
     "output_type": "execute_result"
    }
   ],
   "source": [
    "# != is not equal to\n",
    "'Hola' != 'hola'"
   ]
  },
  {
   "cell_type": "code",
   "execution_count": 47,
   "id": "e96c132e",
   "metadata": {},
   "outputs": [
    {
     "data": {
      "text/plain": [
       "True"
      ]
     },
     "execution_count": 47,
     "metadata": {},
     "output_type": "execute_result"
    }
   ],
   "source": [
    "# minor than\n",
    "4 < 10"
   ]
  },
  {
   "cell_type": "markdown",
   "id": "95439db5",
   "metadata": {},
   "source": [
    "### Membership operators\n",
    "\n",
    "Membership operators are used to test if a sequence is presented in an object such as a string, an integer as well as a tuple.\n",
    "\n",
    "| Membership Operators | Description  |\n",
    "| :---: | :---: |\n",
    "| `in` | if a sequence with the specified value is present in the object, then True |\n",
    "| `not in` | if a sequence with the specified value is not present in the object, then True  |"
   ]
  },
  {
   "cell_type": "markdown",
   "id": "a9bbf6f6",
   "metadata": {},
   "source": [
    "Store your surname in a variable and check if surname variable contains specific characters:"
   ]
  },
  {
   "cell_type": "code",
   "execution_count": 62,
   "id": "3183af5d",
   "metadata": {},
   "outputs": [],
   "source": [
    "# Type the code here:\n",
    "surname = \"Gabbanelli\"\n",
    "\n",
    "'bb' in surname"
   ]
  },
  {
   "cell_type": "code",
   "execution_count": 37,
   "id": "c8bae4ef",
   "metadata": {},
   "outputs": [
    {
     "data": {
      "text/plain": [
       "True"
      ]
     },
     "execution_count": 37,
     "metadata": {},
     "output_type": "execute_result"
    }
   ],
   "source": [
    "'in' not in name"
   ]
  },
  {
   "cell_type": "markdown",
   "id": "7e4e48b1",
   "metadata": {},
   "source": [
    "## Built-in methods for string handling"
   ]
  },
  {
   "cell_type": "markdown",
   "id": "d537bf98",
   "metadata": {},
   "source": [
    "Store your name in a variable:"
   ]
  },
  {
   "cell_type": "code",
   "execution_count": 51,
   "id": "b9226823",
   "metadata": {},
   "outputs": [
    {
     "data": {
      "text/plain": [
       "'Luciano'"
      ]
     },
     "execution_count": 51,
     "metadata": {},
     "output_type": "execute_result"
    }
   ],
   "source": [
    "# Type the code here:\n",
    "name = 'Luciano'\n",
    "name"
   ]
  },
  {
   "cell_type": "markdown",
   "id": "124a00f1",
   "metadata": {},
   "source": [
    "`len()` is a built-in function usefull not only for strings, isn't it?\n",
    "\n",
    "Find the length of your name:"
   ]
  },
  {
   "cell_type": "code",
   "execution_count": 38,
   "id": "e6682596",
   "metadata": {},
   "outputs": [
    {
     "data": {
      "text/plain": [
       "7"
      ]
     },
     "execution_count": 38,
     "metadata": {},
     "output_type": "execute_result"
    }
   ],
   "source": [
    "# Type the code here:\n",
    "len(name)"
   ]
  },
  {
   "cell_type": "markdown",
   "id": "6e82714f",
   "metadata": {},
   "source": [
    "Put your name in all caps:"
   ]
  },
  {
   "cell_type": "code",
   "execution_count": 39,
   "id": "3de4ddb4",
   "metadata": {},
   "outputs": [
    {
     "data": {
      "text/plain": [
       "'LUCIANO'"
      ]
     },
     "execution_count": 39,
     "metadata": {},
     "output_type": "execute_result"
    }
   ],
   "source": [
    "# Type the code here:\n",
    "name.upper()"
   ]
  },
  {
   "cell_type": "markdown",
   "id": "47922b4c",
   "metadata": {},
   "source": [
    "You can ask if all characters in a string are uppercase."
   ]
  },
  {
   "cell_type": "code",
   "execution_count": 55,
   "id": "73b2f2b4",
   "metadata": {},
   "outputs": [
    {
     "data": {
      "text/plain": [
       "True"
      ]
     },
     "execution_count": 55,
     "metadata": {},
     "output_type": "execute_result"
    }
   ],
   "source": [
    "# Type the code here:\n",
    "name.upper().isupper()"
   ]
  },
  {
   "cell_type": "markdown",
   "id": "9c9d1578",
   "metadata": {},
   "source": [
    "Try the following methods: .lower(), .startswith(), .replace(), .capitalize()\n",
    "\n",
    "Shortcuts :D\n",
    "Write the name of the variable before a period, then press the tab key. A panel with the available methods will be displayed."
   ]
  },
  {
   "cell_type": "code",
   "execution_count": 25,
   "id": "058d02d4",
   "metadata": {},
   "outputs": [
    {
     "ename": "SyntaxError",
     "evalue": "invalid syntax (472924188.py, line 1)",
     "output_type": "error",
     "traceback": [
      "\u001b[1;36m  Input \u001b[1;32mIn [25]\u001b[1;36m\u001b[0m\n\u001b[1;33m    nombre. # press Tab key\u001b[0m\n\u001b[1;37m            ^\u001b[0m\n\u001b[1;31mSyntaxError\u001b[0m\u001b[1;31m:\u001b[0m invalid syntax\n"
     ]
    }
   ],
   "source": [
    "name. # press Tab key next to the dot"
   ]
  },
  {
   "cell_type": "code",
   "execution_count": 57,
   "id": "157c6fc0",
   "metadata": {},
   "outputs": [
    {
     "data": {
      "text/plain": [
       "'luciano'"
      ]
     },
     "execution_count": 57,
     "metadata": {},
     "output_type": "execute_result"
    }
   ],
   "source": [
    "name.lower()"
   ]
  },
  {
   "cell_type": "code",
   "execution_count": 58,
   "id": "3d14cefa",
   "metadata": {},
   "outputs": [
    {
     "data": {
      "text/plain": [
       "False"
      ]
     },
     "execution_count": 58,
     "metadata": {},
     "output_type": "execute_result"
    }
   ],
   "source": [
    "name.startswith('lu')"
   ]
  },
  {
   "cell_type": "code",
   "execution_count": 59,
   "id": "78d908d4",
   "metadata": {},
   "outputs": [
    {
     "data": {
      "text/plain": [
       "'ciano'"
      ]
     },
     "execution_count": 59,
     "metadata": {},
     "output_type": "execute_result"
    }
   ],
   "source": [
    "name.removeprefix('Lu')"
   ]
  },
  {
   "cell_type": "code",
   "execution_count": 60,
   "id": "74b2cea2",
   "metadata": {},
   "outputs": [
    {
     "data": {
      "text/plain": [
       "'Lucieno'"
      ]
     },
     "execution_count": 60,
     "metadata": {},
     "output_type": "execute_result"
    }
   ],
   "source": [
    "name.replace('a','e')"
   ]
  },
  {
   "cell_type": "code",
   "execution_count": 61,
   "id": "997dbcc0",
   "metadata": {},
   "outputs": [
    {
     "data": {
      "text/plain": [
       "'Anselmo'"
      ]
     },
     "execution_count": 61,
     "metadata": {},
     "output_type": "execute_result"
    }
   ],
   "source": [
    "'anselmo'.capitalize()"
   ]
  },
  {
   "cell_type": "markdown",
   "id": "0642f592",
   "metadata": {},
   "source": [
    "### Slicing"
   ]
  },
  {
   "cell_type": "markdown",
   "id": "7bff7800",
   "metadata": {},
   "source": [
    "How strings behave when applying the arithmetic operators + and *"
   ]
  },
  {
   "cell_type": "code",
   "execution_count": 2,
   "id": "92543705",
   "metadata": {},
   "outputs": [
    {
     "name": "stdout",
     "output_type": "stream",
     "text": [
      "AssemblerInstitute\n"
     ]
    }
   ],
   "source": [
    "# Type the code here:\n",
    "a = 'Assembler'\n",
    "b = 'Institute'\n",
    "\n",
    "c = a+b\n",
    "print(c)"
   ]
  },
  {
   "cell_type": "code",
   "execution_count": 45,
   "id": "37a73b9f",
   "metadata": {},
   "outputs": [
    {
     "data": {
      "text/plain": [
       "'AssemblerInstituteAssemblerInstituteAssemblerInstitute'"
      ]
     },
     "execution_count": 45,
     "metadata": {},
     "output_type": "execute_result"
    }
   ],
   "source": [
    "c * 3"
   ]
  },
  {
   "cell_type": "code",
   "execution_count": 46,
   "id": "cf622b9f",
   "metadata": {},
   "outputs": [
    {
     "ename": "TypeError",
     "evalue": "can't multiply sequence by non-int of type 'float'",
     "output_type": "error",
     "traceback": [
      "\u001b[1;31m---------------------------------------------------------------------------\u001b[0m",
      "\u001b[1;31mTypeError\u001b[0m                                 Traceback (most recent call last)",
      "Input \u001b[1;32mIn [46]\u001b[0m, in \u001b[0;36m<cell line: 1>\u001b[1;34m()\u001b[0m\n\u001b[1;32m----> 1\u001b[0m \u001b[43mc\u001b[49m\u001b[43m \u001b[49m\u001b[38;5;241;43m*\u001b[39;49m\u001b[43m \u001b[49m\u001b[38;5;241;43m3.5\u001b[39;49m\n",
      "\u001b[1;31mTypeError\u001b[0m: can't multiply sequence by non-int of type 'float'"
     ]
    }
   ],
   "source": [
    "c * 3.5"
   ]
  },
  {
   "cell_type": "code",
   "execution_count": 3,
   "id": "ef2691b5",
   "metadata": {},
   "outputs": [
    {
     "data": {
      "text/plain": [
       "'Assembler Institute'"
      ]
     },
     "execution_count": 3,
     "metadata": {},
     "output_type": "execute_result"
    }
   ],
   "source": [
    "complete_name = a + ' ' + b\n",
    "complete_name"
   ]
  },
  {
   "cell_type": "markdown",
   "id": "bc641735",
   "metadata": {},
   "source": [
    "You can indicate a range of characters using the split syntax and thus return part of a string.\n",
    "\n",
    "| A | s | s | e | m | b | l | e | r |  | I | n | s | t | i | t | u | t | e |\n",
    "| :---: | :---: | :---: | :---: | :---: | :---: | :---: | :---: | :---: | :---: | :---: | :---: | :---: | :---: | :---: | :---: | :---: | :---: | :---: |\n",
    "| 0 | 1 | 2 | 3 | 4 | 5 | 6 | 7 | 8 | 9 | 10 | 11 | 12 | 13 | 14 | 15 | 16 | 17 | 18 | 19 |\n",
    "| -18 | -17 | -16 | -15 | -14 | -13 | -12 | -11 | -10 | -9 | -8 | -7 | -6 | -5 | -4 | -3 | -2 | -1 | 0 |\n",
    "\n",
    "**&rarr;** Start to End\n",
    "\n",
    "&larr; End to Start (for negavive indexing)"
   ]
  },
  {
   "cell_type": "code",
   "execution_count": 48,
   "id": "7395c55b",
   "metadata": {},
   "outputs": [
    {
     "data": {
      "text/plain": [
       "'A'"
      ]
     },
     "execution_count": 48,
     "metadata": {},
     "output_type": "execute_result"
    }
   ],
   "source": [
    "complete_name[0]"
   ]
  },
  {
   "cell_type": "markdown",
   "id": "51593a3b",
   "metadata": {},
   "source": [
    "Which is the location of the space?"
   ]
  },
  {
   "cell_type": "code",
   "execution_count": 49,
   "id": "7b676d65",
   "metadata": {},
   "outputs": [
    {
     "data": {
      "text/plain": [
       "' '"
      ]
     },
     "execution_count": 49,
     "metadata": {},
     "output_type": "execute_result"
    }
   ],
   "source": [
    "# Type the code here:\n",
    "complete_name[9]"
   ]
  },
  {
   "cell_type": "markdown",
   "id": "3affc025",
   "metadata": {},
   "source": [
    "Python allows **negative indexing** for its sequences (this means start from the end).\n",
    "The index of -1 refers to the last item, -2 to the second last item and so on. Try it!"
   ]
  },
  {
   "cell_type": "code",
   "execution_count": 71,
   "id": "263f184b",
   "metadata": {},
   "outputs": [
    {
     "data": {
      "text/plain": [
       "'i'"
      ]
     },
     "execution_count": 71,
     "metadata": {},
     "output_type": "execute_result"
    }
   ],
   "source": [
    "complete_name[-1] "
   ]
  },
  {
   "cell_type": "markdown",
   "id": "82846b39",
   "metadata": {},
   "source": [
    "**Range of Indexes:** You can specify a range of indexes by specifying where to start and where to end the range. The return value will be a new list with the specified items.\n",
    "\n",
    "Print 'emble', 'Assembler' and ' Institute'"
   ]
  },
  {
   "cell_type": "code",
   "execution_count": 50,
   "id": "2cee2eef",
   "metadata": {},
   "outputs": [
    {
     "data": {
      "text/plain": [
       "'emble'"
      ]
     },
     "execution_count": 50,
     "metadata": {},
     "output_type": "execute_result"
    }
   ],
   "source": [
    "# Type the code here:\n",
    "complete_name[3:8] # Take care of the endpoints! It would be = [3;8)"
   ]
  },
  {
   "cell_type": "code",
   "execution_count": 51,
   "id": "bcb58773",
   "metadata": {},
   "outputs": [
    {
     "data": {
      "text/plain": [
       "'Assembler'"
      ]
     },
     "execution_count": 51,
     "metadata": {},
     "output_type": "execute_result"
    }
   ],
   "source": [
    "complete_name[:9]"
   ]
  },
  {
   "cell_type": "code",
   "execution_count": 52,
   "id": "bc828d62",
   "metadata": {},
   "outputs": [
    {
     "data": {
      "text/plain": [
       "' Institute'"
      ]
     },
     "execution_count": 52,
     "metadata": {},
     "output_type": "execute_result"
    }
   ],
   "source": [
    "complete_name[9:]"
   ]
  },
  {
   "cell_type": "markdown",
   "id": "67723da1",
   "metadata": {},
   "source": [
    "And also print 'tute', 'Assembler Inst' and 'Inst' using nevative indexing"
   ]
  },
  {
   "cell_type": "code",
   "execution_count": 54,
   "id": "ea29346c",
   "metadata": {},
   "outputs": [
    {
     "data": {
      "text/plain": [
       "'tute'"
      ]
     },
     "execution_count": 54,
     "metadata": {},
     "output_type": "execute_result"
    }
   ],
   "source": [
    "# Type the code here:\n",
    "complete_name[-4:]"
   ]
  },
  {
   "cell_type": "code",
   "execution_count": 55,
   "id": "2c73db7c",
   "metadata": {},
   "outputs": [
    {
     "data": {
      "text/plain": [
       "'Assembler Inst'"
      ]
     },
     "execution_count": 55,
     "metadata": {},
     "output_type": "execute_result"
    }
   ],
   "source": [
    "complete_name[:-5]"
   ]
  },
  {
   "cell_type": "code",
   "execution_count": 57,
   "id": "3b783e1b",
   "metadata": {},
   "outputs": [
    {
     "data": {
      "text/plain": [
       "'Inst'"
      ]
     },
     "execution_count": 57,
     "metadata": {},
     "output_type": "execute_result"
    }
   ],
   "source": [
    "complete_name[-9:-5]"
   ]
  },
  {
   "cell_type": "markdown",
   "id": "ad46e041",
   "metadata": {},
   "source": [
    "What do you expect from this?"
   ]
  },
  {
   "cell_type": "code",
   "execution_count": 60,
   "id": "05f30800",
   "metadata": {},
   "outputs": [
    {
     "data": {
      "text/plain": [
       "'Assembler Institute'"
      ]
     },
     "execution_count": 60,
     "metadata": {},
     "output_type": "execute_result"
    }
   ],
   "source": [
    "complete_name[:]"
   ]
  },
  {
   "cell_type": "markdown",
   "id": "8af04dc6",
   "metadata": {},
   "source": [
    "When slicing, 3 parameters are available: $\\quad$ `string[start:end:jump]`\n",
    "\n",
    "So what do you expect the output of the following command to be?"
   ]
  },
  {
   "cell_type": "code",
   "execution_count": 61,
   "id": "89fe74aa",
   "metadata": {},
   "outputs": [
    {
     "data": {
      "text/plain": [
       "'smlrIsiue'"
      ]
     },
     "execution_count": 61,
     "metadata": {},
     "output_type": "execute_result"
    }
   ],
   "source": [
    "complete_name[2:30:2]"
   ]
  },
  {
   "cell_type": "markdown",
   "id": "c8b380c3",
   "metadata": {},
   "source": [
    "### The `strip` method"
   ]
  },
  {
   "cell_type": "markdown",
   "id": "859c284c",
   "metadata": {},
   "source": [
    "The `strip()` method removes any leading (spaces at the beginning) and trailing (spaces at the end) characters (space is the default leading character to remove)\n",
    "\n",
    "> **Sitntax**: `string.strip(characters)`\n",
    ">\n",
    "> **Parameter**: Optional. Characters to be removed as leading/trailing characters\n",
    "\n",
    "Two similar methods are `rstrip()` and `lstrip()`, whcich removes any trailing characters (characters at the end a string), or any leading characters, respectively. Space is the default trailing character to remove."
   ]
  },
  {
   "cell_type": "markdown",
   "id": "62b73868",
   "metadata": {},
   "source": [
    "**Task:** Remove leftover characters from the string called `txt` and print the result: "
   ]
  },
  {
   "cell_type": "code",
   "execution_count": 11,
   "id": "32e00973",
   "metadata": {},
   "outputs": [
    {
     "name": "stdout",
     "output_type": "stream",
     "text": [
      "banana\n"
     ]
    }
   ],
   "source": [
    "txt = \",,,,,rrttgg.....banana,,,,,ssqqqww.....\"\n",
    "\n",
    "# Type code here:\n",
    "x = txt.strip(\",.qswrtg\")\n",
    "print(x)"
   ]
  },
  {
   "cell_type": "markdown",
   "id": "445e3f3a",
   "metadata": {},
   "source": [
    "### The `split()` method"
   ]
  },
  {
   "cell_type": "markdown",
   "id": "8b409ad4",
   "metadata": {},
   "source": [
    "There is no resume. Go to:\n",
    "\n",
    "[Python String `split()` Method](https://www.w3schools.com/python/ref_string_split.asp)"
   ]
  },
  {
   "cell_type": "markdown",
   "id": "cc143d2b",
   "metadata": {},
   "source": [
    "**Task:** Split the variable `complete_name` with no arguments."
   ]
  },
  {
   "cell_type": "code",
   "execution_count": 5,
   "id": "22dae6e6",
   "metadata": {},
   "outputs": [
    {
     "data": {
      "text/plain": [
       "['Assembler', 'Institute']"
      ]
     },
     "execution_count": 5,
     "metadata": {},
     "output_type": "execute_result"
    }
   ],
   "source": [
    "# Press Shift + Tab inside parenthesis for help\n",
    "# Type code here:\n",
    "complete_name.split() "
   ]
  },
  {
   "cell_type": "markdown",
   "id": "d6090d31",
   "metadata": {},
   "source": [
    "**Task:** Split the variable `complete_name` using the character `'t'` as a separator and store the output in a variable. Show the variable, find its type and length."
   ]
  },
  {
   "cell_type": "code",
   "execution_count": 7,
   "id": "913d6f9e",
   "metadata": {},
   "outputs": [
    {
     "data": {
      "text/plain": [
       "['Assembler Ins', 'i', 'u', 'e']"
      ]
     },
     "execution_count": 7,
     "metadata": {},
     "output_type": "execute_result"
    }
   ],
   "source": [
    "# Type code here:\n",
    "splited_complete_name = complete_name.split('t')\n",
    "splited_complete_name"
   ]
  },
  {
   "cell_type": "code",
   "execution_count": 9,
   "id": "c2a092ba",
   "metadata": {},
   "outputs": [
    {
     "data": {
      "text/plain": [
       "list"
      ]
     },
     "execution_count": 9,
     "metadata": {},
     "output_type": "execute_result"
    }
   ],
   "source": [
    "type(splited_complete_name)"
   ]
  },
  {
   "cell_type": "code",
   "execution_count": 10,
   "id": "14b2efd5",
   "metadata": {},
   "outputs": [
    {
     "data": {
      "text/plain": [
       "4"
      ]
     },
     "execution_count": 10,
     "metadata": {},
     "output_type": "execute_result"
    }
   ],
   "source": [
    "len(splited_complete_name)"
   ]
  },
  {
   "cell_type": "markdown",
   "id": "e85a24a2",
   "metadata": {},
   "source": [
    "**Task:** Given the following web page: `'www.assemblerinstitute.com'`, extract the domain (this is, `'assemblerinstitute.com'`)"
   ]
  },
  {
   "cell_type": "code",
   "execution_count": 9,
   "id": "1836ad99",
   "metadata": {},
   "outputs": [],
   "source": [
    "# Type the code here:\n",
    "webpage = 'www.assemblerinstitute.com'\n",
    "webpage.split('.', 1)[1]"
   ]
  },
  {
   "cell_type": "markdown",
   "id": "635faddf",
   "metadata": {},
   "source": [
    "### The `.join()` method\n",
    "\n",
    "Now is your turn! Teach yourself the `.join()` method.\n",
    "\n",
    "[Python String `join()` Method](https://www.programiz.com/python-programming/methods/string/join)"
   ]
  },
  {
   "cell_type": "markdown",
   "id": "8bd4c696",
   "metadata": {},
   "source": [
    "**Task:** You hace three list with part of a phrase, construct the full quote only using the `join()` method. The output should be:\n",
    "\n",
    "\"What we know is a drop, what we don't know is an ocean. Isaac Newton\""
   ]
  },
  {
   "cell_type": "code",
   "execution_count": null,
   "id": "283286b4",
   "metadata": {},
   "outputs": [],
   "source": [
    "quote_part1 = ['What', 'we', 'know', 'is', 'a', 'drop']\n",
    "quote_part2 = [\"what\", \"we\", \"don't\", \"know\", \"is\", \"an\", \"ocean\"]\n",
    "author = ['Isaac', 'Newton']"
   ]
  },
  {
   "cell_type": "code",
   "execution_count": 17,
   "id": "1274e47a",
   "metadata": {},
   "outputs": [],
   "source": [
    "# Type the code here:\n",
    "string_part1 = ' '.join(quote_part1)\n",
    "string_part2 = ' '.join(quote_part2)\n",
    "string_author = ' '.join(author)"
   ]
  },
  {
   "cell_type": "code",
   "execution_count": 18,
   "id": "34a2cda5",
   "metadata": {},
   "outputs": [
    {
     "data": {
      "text/plain": [
       "'Isaac Newton'"
      ]
     },
     "execution_count": 18,
     "metadata": {},
     "output_type": "execute_result"
    }
   ],
   "source": [
    "string_author"
   ]
  },
  {
   "cell_type": "code",
   "execution_count": 19,
   "id": "a3eff604",
   "metadata": {},
   "outputs": [
    {
     "data": {
      "text/plain": [
       "\"What we know is a drop, what we don't know is an ocean. Isaac Newton\""
      ]
     },
     "execution_count": 19,
     "metadata": {},
     "output_type": "execute_result"
    }
   ],
   "source": [
    "string_final = \", \".join([string_part1,string_part2])\n",
    "string_final = \". \".join([string_final,string_author])\n",
    "string_final"
   ]
  }
 ],
 "metadata": {
  "kernelspec": {
   "display_name": "Python 3 (ipykernel)",
   "language": "python",
   "name": "python3"
  },
  "language_info": {
   "codemirror_mode": {
    "name": "ipython",
    "version": 3
   },
   "file_extension": ".py",
   "mimetype": "text/x-python",
   "name": "python",
   "nbconvert_exporter": "python",
   "pygments_lexer": "ipython3",
   "version": "3.9.12"
  },
  "toc": {
   "base_numbering": 1,
   "nav_menu": {},
   "number_sections": true,
   "sideBar": true,
   "skip_h1_title": true,
   "title_cell": "Table of Contents",
   "title_sidebar": "Contents",
   "toc_cell": false,
   "toc_position": {
    "height": "749px",
    "left": "219px",
    "top": "218.125px",
    "width": "258.991px"
   },
   "toc_section_display": true,
   "toc_window_display": true
  }
 },
 "nbformat": 4,
 "nbformat_minor": 5
}
