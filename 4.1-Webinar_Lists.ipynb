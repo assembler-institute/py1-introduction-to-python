{
 "cells": [
  {
   "cell_type": "markdown",
   "id": "5e8cd5c7",
   "metadata": {},
   "source": [
    "# Webinar: Python Lists\n",
    "\n",
    "by [Luciano Gabbanelli](https://www.linkedin.com/in/luciano-gabbanelli-ph-d-75302218)"
   ]
  },
  {
   "cell_type": "markdown",
   "id": "912d31e4",
   "metadata": {},
   "source": [
    "<img width=80 src=\"https://media.giphy.com/media/KAq5w47R9rmTuvWOWa/giphy.gif\">\n",
    "\n",
    "<img width=150 src=\"Images/Assembler.png\">\n",
    "\n",
    "***"
   ]
  },
  {
   "cell_type": "markdown",
   "id": "9e1df974",
   "metadata": {},
   "source": [
    "## Diving into lists\n",
    "\n",
    "Lists are one of the most versatile data types that allow us to work with multiple elements at once.\n",
    "\n",
    "Lists are one of 4 built-in data types in Python used to store collections of data; the other 3 are Tuple, Set, and Dictionary, all with different qualities and usage.\n",
    "\n",
    "Lists are created using square brackets. List items are indexed, the first item has index [0], the second item has index [1], etc.\n",
    "\n",
    "\n",
    "List items are ordered<a name=\"cite_ref-1\"></a>[<sup>[1]</sup>](#cite_note-1), changeable<a name=\"cite_ref-2\"></a>[<sup>[2]</sup>](#cite_note-2), and allow duplicate values<a name=\"cite_ref-3\"></a>[<sup>[3]</sup>](#cite_note-3).\n",
    "\n",
    "\n",
    "If you add new items to a list, the new items will be placed at the end of the list.\n",
    "\n",
    "<br>\n",
    "<br>\n",
    "\n",
    "<a name=\"cite_note-1\"></a> [[1]](#cite_ref-1) This means that the items have a defined order, and that order will not change.  There are some [list methods](https://www.w3schools.com/python/python_lists_methods.asp) that will change the order, but in general: the order of the items will not change.\n",
    "\n",
    "<a name=\"cite_note-2\"></a> [[2]](#cite_ref-2) Changeable, meaning that we can change, add, and remove items in a list after it has been created.\n",
    "\n",
    "<a name=\"cite_note-3\"></a> [[3]](#cite_ref-3) Since lists are indexed, lists can have items with the same value."
   ]
  },
  {
   "cell_type": "markdown",
   "id": "a2a388fd",
   "metadata": {},
   "source": [
    "Create a list with objects of different types:"
   ]
  },
  {
   "cell_type": "code",
   "execution_count": null,
   "id": "21572cb9",
   "metadata": {},
   "outputs": [],
   "source": [
    "# Type the code here:\n",
    "\n"
   ]
  },
  {
   "cell_type": "markdown",
   "id": "b0fbcb55",
   "metadata": {},
   "source": [
    "Query the type of object created and the type of each element (list items are indexed and you can access them by referring to the index number):"
   ]
  },
  {
   "cell_type": "code",
   "execution_count": null,
   "id": "5094b06a",
   "metadata": {},
   "outputs": [],
   "source": [
    "# Type the code here:\n",
    "\n"
   ]
  },
  {
   "cell_type": "markdown",
   "id": "9a640af2",
   "metadata": {},
   "source": [
    "### List Length\n",
    "\n",
    "To determine how many items a list has, use the `len()` function."
   ]
  },
  {
   "cell_type": "code",
   "execution_count": null,
   "id": "49e54789",
   "metadata": {},
   "outputs": [],
   "source": [
    "# Type the code here:\n",
    "\n"
   ]
  },
  {
   "cell_type": "markdown",
   "id": "52752409",
   "metadata": {},
   "source": [
    "### Access list elements by list index.\n",
    "\n",
    "As in strings, we also have negative indexing, range of indexes (remember that python does not take the upper limit), jumps (`[::]` &#10230; `[start:end:jump]`), etc."
   ]
  },
  {
   "cell_type": "code",
   "execution_count": null,
   "id": "f43281ce",
   "metadata": {},
   "outputs": [],
   "source": [
    "# Try some code here:\n",
    "\n"
   ]
  },
  {
   "cell_type": "markdown",
   "id": "807e9228",
   "metadata": {},
   "source": [
    "By leaving out the start (end) value, the range will start (end) at the first (last) item:"
   ]
  },
  {
   "cell_type": "code",
   "execution_count": null,
   "id": "7c1d8745",
   "metadata": {},
   "outputs": [],
   "source": [
    "# Try some code here:\n",
    "\n"
   ]
  },
  {
   "cell_type": "markdown",
   "id": "1e9e503f",
   "metadata": {},
   "source": [
    "### Check if item exists\n",
    "\n",
    "You can use the membership operators (which we have seen in *2.1-Webinar_Introduction_to_Python*) to determine if a specified item value is present in a list."
   ]
  },
  {
   "cell_type": "code",
   "execution_count": null,
   "id": "91b6366b",
   "metadata": {},
   "outputs": [],
   "source": [
    "# Try some code here:\n",
    "\n",
    "\n"
   ]
  },
  {
   "cell_type": "markdown",
   "id": "2b844de3",
   "metadata": {},
   "source": [
    "### Change item value, or range of item values\n",
    "\n",
    "Reasign the value of one of the items (a range of items) of the list.\n",
    "\n",
    "If you insert more items than you replace, the new items will be inserted where you specified, and the remaining items will move accordingly (clearly, the length of the list will change).\n",
    "\n",
    "If you insert less items than you replace, the new items will be inserted where you specified, the exceeding items will be deleted, and the remaining items will move accordingly."
   ]
  },
  {
   "cell_type": "code",
   "execution_count": null,
   "id": "a57b980d",
   "metadata": {},
   "outputs": [],
   "source": [
    "# Try some code here:\n",
    "\n"
   ]
  },
  {
   "cell_type": "markdown",
   "id": "5fc53371",
   "metadata": {},
   "source": [
    "### Incorporate new items\n",
    "\n",
    "You can `insert()` a new item without replacing any of the existing values. This will change the length of your list.\n",
    "\n",
    "> **Syntax**: `list_name.insert(value,index_position)`\n",
    "\n",
    "<br>\n",
    "\n",
    "Alternatively you can use the `append()` method to add an item to the end of the list.\n",
    "\n",
    "> **Syntax**: `list_name.append(value)`\n",
    "\n",
    "<br>\n",
    "\n",
    "Or `extend()` your current list with some elements from another list, tuple, set, dictionary, or any any iterable object.\n",
    "\n",
    "> **Syntax**: `list_name.extend(other_object)`"
   ]
  },
  {
   "cell_type": "code",
   "execution_count": null,
   "id": "df5661fd",
   "metadata": {},
   "outputs": [],
   "source": [
    "# Try some code here:\n",
    "\n"
   ]
  },
  {
   "cell_type": "markdown",
   "id": "ea8d8f98",
   "metadata": {},
   "source": [
    "### Supress existing items\n",
    "\n",
    "The `remove()` method removes the specified item.\n",
    "\n",
    "> **Syntax**: `list_name.remove(value)`\n",
    "\n",
    "<br>\n",
    "\n",
    "The `pop()` method removes the specified index. If you do not specify the index, the `pop()` method removes the last item.\n",
    "\n",
    "> **Syntax**: `list_name.pop(index)`\n",
    "\n",
    "<br>\n",
    "\n",
    "The `del()` keyword also removes the specified index.\n",
    "\n",
    "> **Syntax**: `del(list_name[index])`\n",
    "\n",
    "<br>\n",
    "\n",
    "\n",
    "Or you can delete the full list if the name of the complete list is introduced as parameter.\n",
    "\n",
    "> **Syntax**: `del(list_name)`\n",
    "\n",
    "<br>\n",
    "\n",
    "Alternatively, you can just erase the content but conserve the list. The `clear()` method empties the list.\n",
    "\n",
    "> **Syntax**: `clear(list_name)`"
   ]
  },
  {
   "cell_type": "markdown",
   "id": "229280a5",
   "metadata": {},
   "source": [
    "- **Remove** the first appearence of an element of a list:"
   ]
  },
  {
   "cell_type": "code",
   "execution_count": null,
   "id": "ce7f3687",
   "metadata": {},
   "outputs": [],
   "source": [
    "# Type the code here:\n",
    "\n"
   ]
  },
  {
   "cell_type": "markdown",
   "id": "3f864055",
   "metadata": {},
   "source": [
    "### The `count()` method\n",
    "\n",
    "The `count()` method returns the number of elements with a specified value.\n",
    "\n",
    "> **Syntax**: `list.count(value)`"
   ]
  },
  {
   "cell_type": "markdown",
   "id": "94e0aa92",
   "metadata": {},
   "source": [
    "- **Count** how many times the srting 'apple' appears in our list."
   ]
  },
  {
   "cell_type": "code",
   "execution_count": null,
   "id": "750ffd28",
   "metadata": {},
   "outputs": [],
   "source": [
    "# Type the code here:\n",
    "\n"
   ]
  },
  {
   "cell_type": "markdown",
   "id": "3982049c",
   "metadata": {},
   "source": [
    "### The `reverse()` method\n",
    "\n",
    "The `reverse()` method reverses the sorting order of the elements.\n",
    "\n",
    "> **Syntax**: `list.reverse()`\n",
    "\n",
    "**Note:** This method needs no parameters."
   ]
  },
  {
   "cell_type": "code",
   "execution_count": null,
   "id": "1771935d",
   "metadata": {},
   "outputs": [],
   "source": [
    "# Type the code here:\n",
    "\n"
   ]
  },
  {
   "cell_type": "markdown",
   "id": "3dd9df33",
   "metadata": {},
   "source": [
    "### Loop through a list (again)\n",
    "\n",
    "You can loop through the list items by using a for loop:"
   ]
  },
  {
   "cell_type": "code",
   "execution_count": null,
   "id": "59e0f649",
   "metadata": {},
   "outputs": [],
   "source": [
    "# Type the code here:\n",
    "\n"
   ]
  },
  {
   "cell_type": "markdown",
   "id": "b96729bb",
   "metadata": {},
   "source": [
    "Or you can loop through the index numbers:"
   ]
  },
  {
   "cell_type": "code",
   "execution_count": null,
   "id": "6e6b2e27",
   "metadata": {},
   "outputs": [],
   "source": [
    "# Type the code here:\n",
    "\n"
   ]
  },
  {
   "cell_type": "markdown",
   "id": "cca06113",
   "metadata": {},
   "source": [
    "**Extra:** find the iterable created for the previous loop."
   ]
  },
  {
   "cell_type": "code",
   "execution_count": null,
   "id": "975612a3",
   "metadata": {},
   "outputs": [],
   "source": [
    "# Type the code here:\n",
    "\n"
   ]
  },
  {
   "cell_type": "markdown",
   "id": "eccfd98d",
   "metadata": {},
   "source": [
    "### Looping using list comprehension\n",
    "\n",
    "List comprehension offers the shortest syntax for looping through lists (you can do all with only one line of code).\n",
    "\n",
    "> **Syntax**: `newlist = [expression for item in iterable if condition == True]`"
   ]
  },
  {
   "cell_type": "markdown",
   "id": "bde3c83e",
   "metadata": {},
   "source": [
    "- **Convert** only non-string values from our list called `cocoliche_list` to strings in a new list:"
   ]
  },
  {
   "cell_type": "code",
   "execution_count": null,
   "id": "75e73ede",
   "metadata": {},
   "outputs": [],
   "source": [
    "cocoliche_list"
   ]
  },
  {
   "cell_type": "code",
   "execution_count": null,
   "id": "462c65ce",
   "metadata": {},
   "outputs": [],
   "source": [
    "# Type the code here:\n",
    "\n"
   ]
  },
  {
   "cell_type": "markdown",
   "id": "a6c1f9fd",
   "metadata": {},
   "source": [
    "- **Research** on how to add an `else` in list comprehension.\n",
    "\n",
    "\n",
    "- **Convert** all values from our list to strings in a new list and convert to uppercase only those elements that in the list called `cocoliche_list` were strings:"
   ]
  },
  {
   "cell_type": "code",
   "execution_count": null,
   "id": "67842665",
   "metadata": {},
   "outputs": [],
   "source": [
    "# Type the code here:\n",
    "\n"
   ]
  },
  {
   "cell_type": "markdown",
   "id": "d5d4d6c6",
   "metadata": {},
   "source": [
    "- **Create** a list of integers close to 50 (some bigger, some smaller). Create a list comprehension syntax such that if the numbers in the list are greater than or equal to 50, the program adds 1 to them; but if they are less than 50, then it substract 5."
   ]
  },
  {
   "cell_type": "code",
   "execution_count": null,
   "id": "58838488",
   "metadata": {
    "scrolled": false
   },
   "outputs": [],
   "source": [
    "# Type the code here:\n",
    "\n"
   ]
  },
  {
   "cell_type": "markdown",
   "id": "49d1d02c",
   "metadata": {},
   "source": [
    "###  Copy a list\n",
    "\n",
    "You cannot copy a list simply by typing `list2 = list1`, because: `list2` will only be a reference to `list1`, and changes made in `list1` will automatically also be made in `list2`.\n",
    "\n",
    "There are ways to make a copy, one way is to use the built-in List method `copy()`."
   ]
  },
  {
   "cell_type": "markdown",
   "id": "734d3795",
   "metadata": {},
   "source": [
    "Make a **copy** of a list with the `copy()` method:"
   ]
  },
  {
   "cell_type": "code",
   "execution_count": null,
   "id": "b9b2bb6d",
   "metadata": {},
   "outputs": [],
   "source": [
    "# Type the code here:\n",
    "\n"
   ]
  },
  {
   "cell_type": "markdown",
   "id": "336c1e3f",
   "metadata": {},
   "source": [
    "Make a **copy** of the list using the list constructor (built-in method) `list()`:"
   ]
  },
  {
   "cell_type": "code",
   "execution_count": null,
   "id": "8533eb6b",
   "metadata": {},
   "outputs": [],
   "source": [
    "# Type the code here:\n",
    "\n"
   ]
  },
  {
   "cell_type": "markdown",
   "id": "76ea6d5a",
   "metadata": {},
   "source": [
    "### The `id()` function\n",
    "\n",
    "<br>\n",
    "\n",
    "**NERDY MOMENT!**\n",
    "\n",
    "<br>\n",
    "\n",
    "The `id()` function returns a unique id (unique integer - identity -) for the specified object.\n",
    "\n",
    "All objects in Python has its own unique id.\n",
    "\n",
    "The id is assigned to the object when it is created.\n",
    "\n",
    "The id is the object's memory address, and will be different for each time you run the program. (except for some object that has a constant unique id, like integers from -5 to 256)\n",
    "\n",
    "> **Syntax**: `id(object)`\n",
    ">\n",
    "> `object` can be a class, variable, list, tuple, set, etc."
   ]
  },
  {
   "cell_type": "code",
   "execution_count": null,
   "id": "1ed50276",
   "metadata": {},
   "outputs": [],
   "source": [
    "# Type some code here:\n",
    "\n"
   ]
  },
  {
   "cell_type": "markdown",
   "id": "91ba735a",
   "metadata": {},
   "source": [
    "### Arithmetic operators for list\n",
    "\n",
    "- Using the following list, try some arithmetic operators on it."
   ]
  },
  {
   "cell_type": "code",
   "execution_count": null,
   "id": "7060b493",
   "metadata": {},
   "outputs": [],
   "source": [
    "languages = ['Spanish', 'C++', 'math', 'JavaScript']"
   ]
  },
  {
   "cell_type": "code",
   "execution_count": null,
   "id": "9b714f40",
   "metadata": {},
   "outputs": [],
   "source": [
    "# Type some code here:\n",
    "\n"
   ]
  },
  {
   "cell_type": "code",
   "execution_count": null,
   "id": "23ac418f",
   "metadata": {},
   "outputs": [],
   "source": [
    "# addition of 2 lists\n",
    "\n"
   ]
  },
  {
   "cell_type": "markdown",
   "id": "353d15bc",
   "metadata": {},
   "source": [
    "### Other ways to join two lists\n",
    "\n",
    "Looping a list into another, item by item"
   ]
  },
  {
   "cell_type": "code",
   "execution_count": null,
   "id": "5e2e2a3b",
   "metadata": {},
   "outputs": [],
   "source": [
    "# Type some code here:\n"
   ]
  },
  {
   "cell_type": "markdown",
   "id": "4bb98571",
   "metadata": {},
   "source": [
    "Or with the `extend()` method."
   ]
  },
  {
   "cell_type": "code",
   "execution_count": null,
   "id": "f6b2fefb",
   "metadata": {},
   "outputs": [],
   "source": [
    "# Type the code here:\n",
    "\n"
   ]
  },
  {
   "cell_type": "markdown",
   "id": "ca70853e",
   "metadata": {},
   "source": [
    "## Lists, we are not done yet"
   ]
  },
  {
   "cell_type": "markdown",
   "id": "32dd940b",
   "metadata": {},
   "source": [
    "### The `list()` constructor\n",
    "\n",
    "It is also possible to use the list() constructor for creating a new list.\n",
    "\n",
    "- Create a list of ages of length 8 representing 8 people:"
   ]
  },
  {
   "cell_type": "code",
   "execution_count": null,
   "id": "90c6a12a",
   "metadata": {},
   "outputs": [],
   "source": [
    "# Type the code here:\n",
    "\n"
   ]
  },
  {
   "cell_type": "markdown",
   "id": "ff0d19fd",
   "metadata": {},
   "source": [
    "### The `min()` function\n",
    "\n",
    "The `min()` function returns the item with the lowest value.\n",
    "\n",
    "If the values are strings, an alphabetically comparison is done."
   ]
  },
  {
   "cell_type": "markdown",
   "id": "f2aa63b7",
   "metadata": {},
   "source": [
    "- Find the niminun of the list:"
   ]
  },
  {
   "cell_type": "code",
   "execution_count": null,
   "id": "84a3f61b",
   "metadata": {},
   "outputs": [],
   "source": [
    "# Type the code here:\n",
    "\n"
   ]
  },
  {
   "cell_type": "markdown",
   "id": "80ca534e",
   "metadata": {},
   "source": [
    "### The `max()` function\n",
    "\n",
    "The `max()` function returns the item with the highest value.\n",
    "\n",
    "If the values are strings, an alphabetically comparison is done."
   ]
  },
  {
   "cell_type": "markdown",
   "id": "31dc3d6a",
   "metadata": {},
   "source": [
    "- and the maximum:"
   ]
  },
  {
   "cell_type": "code",
   "execution_count": null,
   "id": "151be8f2",
   "metadata": {},
   "outputs": [],
   "source": [
    "# Type the code here:\n",
    "\n"
   ]
  },
  {
   "cell_type": "markdown",
   "id": "3ee34925",
   "metadata": {},
   "source": [
    "- Count how many times the number 13 appears:"
   ]
  },
  {
   "cell_type": "code",
   "execution_count": null,
   "id": "47d20c5e",
   "metadata": {},
   "outputs": [],
   "source": [
    "# Type the code here:\n",
    "\n"
   ]
  },
  {
   "cell_type": "markdown",
   "id": "c95ad692",
   "metadata": {},
   "source": [
    "### Sort a list\n",
    "\n",
    "List bjects have a `sort()` method that will sort the list in ascending order (alphanumeric, in case of strings) by default.\n",
    "\n",
    "> **Syntax**: `list_name.sort(reverse=True|False, key=my_function)`\n",
    ">\n",
    "> `reverse`: if `True`, the sorted list is reversed; i.e. sort in descending order\n",
    ">\n",
    "> `key` - function that serves as a key for the sort comparison\n",
    "\n",
    "Here are some [uses of the key parameter](https://www.programiz.com/python-programming/methods/list/sort)."
   ]
  },
  {
   "cell_type": "markdown",
   "id": "475de02f",
   "metadata": {},
   "source": [
    "- Sort the list of ages:"
   ]
  },
  {
   "cell_type": "code",
   "execution_count": null,
   "id": "63094b80",
   "metadata": {},
   "outputs": [],
   "source": [
    "# Type the code here:\n",
    "\n"
   ]
  },
  {
   "cell_type": "markdown",
   "id": "605aee53",
   "metadata": {},
   "source": [
    "- Reasign a range of items of the list with assignment operator `=`.\n",
    "\n",
    "  Be careful with the indexation of lists!"
   ]
  },
  {
   "cell_type": "code",
   "execution_count": null,
   "id": "065f09df",
   "metadata": {},
   "outputs": [],
   "source": [
    "# Type the code here:\n",
    "\n"
   ]
  },
  {
   "cell_type": "markdown",
   "id": "f839e466",
   "metadata": {},
   "source": [
    "- Add 3 new elements to the end of the current list."
   ]
  },
  {
   "cell_type": "code",
   "execution_count": null,
   "id": "88ee1a08",
   "metadata": {},
   "outputs": [],
   "source": [
    "# Type the code here:\n",
    "\n"
   ]
  },
  {
   "cell_type": "markdown",
   "id": "a1c44f0a",
   "metadata": {},
   "source": [
    "### Find indices\n",
    "\n",
    "The `index()` method returns the index of the specified element in the list.\n",
    "\n",
    "> Syntax: `list.index(element, start, end)`\n",
    ">\n",
    "> the element to search for can be of any type: string, number, list, etc.\n",
    "\n",
    "If the element is not found, a `ValueError` exception is raised.\n",
    "\n",
    "The `index()` method only returns the first occurrence of the matching element."
   ]
  },
  {
   "cell_type": "code",
   "execution_count": null,
   "id": "25544d7c",
   "metadata": {},
   "outputs": [],
   "source": [
    "# Type some code here:\n",
    "\n"
   ]
  },
  {
   "cell_type": "markdown",
   "id": "c45ae103",
   "metadata": {},
   "source": [
    "### The `enumerate()` function\n",
    "\n",
    "The `enumerate()` function takes a collection (e.g. a list, tuple, etc.) and returns it as an enumerate object, adding a counter as the key of the enumerate object.\n",
    "\n",
    "> Syntax: `enumerate(iterable, start)`\n",
    ">\n",
    "> `start` defines the start number of the `enumerate` object. Default 0.\n",
    "\n",
    "- Enumerate a list and a string:"
   ]
  },
  {
   "cell_type": "code",
   "execution_count": null,
   "id": "ff82a8de",
   "metadata": {},
   "outputs": [],
   "source": [
    "# create a list and a string:\n",
    "\n",
    "\n",
    "# creating enumerate objects:\n",
    "\n",
    "\n",
    "# changing start index to 2 from 0 for the strings:\n",
    "\n"
   ]
  },
  {
   "cell_type": "markdown",
   "id": "ee4f5cde",
   "metadata": {},
   "source": [
    "- Try a `for` with `enumerate()`:"
   ]
  },
  {
   "cell_type": "code",
   "execution_count": null,
   "id": "5d95f139",
   "metadata": {},
   "outputs": [],
   "source": [
    "# Type some code here:\n",
    "\n"
   ]
  },
  {
   "cell_type": "markdown",
   "id": "e828cbbf",
   "metadata": {},
   "source": [
    "### The `zip()` function\n",
    "\n",
    "The `zip()` function takes iterables (can be zero or more), aggregates them in a tuple, and returns it.\n",
    "\n",
    "> Syntax: `zip(iterator1, iterator2, iterator3 ...)`\n",
    ">\n",
    "> iterator1, iterator2, iterator3 ... : Iterator objects  (like: list, string, dict, etc., or user-defined iterables<a name=\"cite_ref-1\"></a>[<sup>[1]</sup>](#cite_note-1)) that will be joined together.\n",
    "\n",
    "<a name=\"cite_note-1\"></a> [[1]](#cite_ref-1) Here is difficult one: [Python Iterators](https://www.programiz.com/python-programming/iterator) :O"
   ]
  },
  {
   "cell_type": "code",
   "execution_count": null,
   "id": "f902a086",
   "metadata": {},
   "outputs": [],
   "source": [
    "languages = ['Java', 'Python', 'JavaScript', 'PHP', 'Kotlin']\n",
    "versions = [8, 3.9, 6, 8.1, 1.6]\n",
    "# Type some code here:\n",
    "\n"
   ]
  },
  {
   "cell_type": "markdown",
   "id": "52579292",
   "metadata": {},
   "source": [
    "### Complete it for yourself\n",
    "\n",
    "When do my transformations affect the list itself and when do they not (i.e. the transformation must be asign to a variable)?\n",
    "\n",
    "Do you remember? Can you list them?\n",
    "\n",
    "* `+`, `*`, ...\n",
    "\n",
    "* `append()`, `remove()`, ...\n",
    "\n",
    "Other methods: `insert()`, `del()`, `clear()`, `pop()`, `index()`"
   ]
  },
  {
   "cell_type": "markdown",
   "id": "2f412a6a",
   "metadata": {},
   "source": [
    "## List of lists\n",
    "\n",
    "The items of a list can be of any type. Also a list!"
   ]
  },
  {
   "cell_type": "code",
   "execution_count": null,
   "id": "44a842d5",
   "metadata": {},
   "outputs": [],
   "source": [
    "# Type some code here:\n",
    "\n"
   ]
  },
  {
   "cell_type": "code",
   "execution_count": null,
   "id": "4185c974",
   "metadata": {},
   "outputs": [],
   "source": [
    "# Concatenation of methods.\n",
    "# Type some code here:\n",
    "\n"
   ]
  },
  {
   "cell_type": "markdown",
   "id": "5446919e",
   "metadata": {},
   "source": [
    "## List of whatever"
   ]
  },
  {
   "cell_type": "code",
   "execution_count": null,
   "id": "808ec8a4",
   "metadata": {},
   "outputs": [],
   "source": [
    "# Type some code here:\n",
    "\n"
   ]
  },
  {
   "cell_type": "markdown",
   "id": "2f43f338",
   "metadata": {},
   "source": [
    "## The reversed() function\n",
    "\n",
    "The `reversed()` function returns a reversed iterator object.\n",
    "\n",
    "> Sintax: `reversed(sequence)`\n",
    ">\n",
    "> `sequence`: any iterable object (required)\n",
    "\n",
    "- Implement the `reversed()` function:"
   ]
  },
  {
   "cell_type": "code",
   "execution_count": null,
   "id": "dc15df87",
   "metadata": {},
   "outputs": [],
   "source": [
    "# Type some code here:\n",
    "\n"
   ]
  },
  {
   "cell_type": "markdown",
   "id": "6dc20419",
   "metadata": {},
   "source": [
    "## The `iter()` and `next()` functions\n",
    "\n",
    "The `iter()` function returns an iterator object. The output is similar to that obtained with the `reversed()` function, but now the iterator is not reversed.\n",
    "\n",
    "> Syntax: `iter(object, sentinel)`\n",
    ">\n",
    "> `object`: any iterable object (required).\n",
    ">\n",
    "> `sentinel`: if the object is a callable object the iteration will stop when the returned value is the same as the `sentinel`(optional).\n",
    "\n",
    "The `next()` function returns the next item in an iterator.\n",
    "You can add a default return value, to return if the iterable has reached to its end.\n",
    "\n",
    "> Syntax: `next(iterable, default)`\n",
    ">\n",
    "> `iterable`: an iterator object (not an iterable object). What is the difference?\n",
    "> \n",
    "> `default`: a default value to return if the iterable has reached to its end.\n"
   ]
  },
  {
   "cell_type": "code",
   "execution_count": null,
   "id": "c090f83b",
   "metadata": {},
   "outputs": [],
   "source": []
  },
  {
   "cell_type": "markdown",
   "id": "64d7d4bc",
   "metadata": {},
   "source": [
    "- Use `iter()` and `next()`:"
   ]
  },
  {
   "cell_type": "code",
   "execution_count": null,
   "id": "be7df536",
   "metadata": {},
   "outputs": [],
   "source": [
    "# Type some code here:\n",
    "\n"
   ]
  },
  {
   "cell_type": "markdown",
   "id": "5271cfd8",
   "metadata": {},
   "source": [
    "## Identity operators\n",
    "\n",
    "<br>\n",
    "\n",
    "**SUPER MEGA NERDY MOMENT!**\n",
    "\n",
    "<br>\n",
    "\n",
    "\n",
    "Identity operators compare the memory location of two objects; not if they are equal (not `==`), but if they are actually the same object.\n",
    "\n",
    "| Identity  Operators | Description  |\n",
    "| :---: | :---: |\n",
    "| `is` | Returns true if both variables are the same object |\n",
    "| `is not` | Returns true if both variables are not the same object |"
   ]
  },
  {
   "cell_type": "code",
   "execution_count": 11,
   "id": "7ffcf637",
   "metadata": {},
   "outputs": [],
   "source": [
    "list_1 = [1,2,3]"
   ]
  },
  {
   "cell_type": "code",
   "execution_count": 12,
   "id": "b3d8e298",
   "metadata": {},
   "outputs": [],
   "source": [
    "list_2 = [1,2,3]"
   ]
  },
  {
   "cell_type": "code",
   "execution_count": 13,
   "id": "91c1c372",
   "metadata": {},
   "outputs": [
    {
     "data": {
      "text/plain": [
       "True"
      ]
     },
     "execution_count": 13,
     "metadata": {},
     "output_type": "execute_result"
    }
   ],
   "source": [
    "list_1 == list_2"
   ]
  },
  {
   "cell_type": "code",
   "execution_count": 14,
   "id": "57c1d70f",
   "metadata": {},
   "outputs": [
    {
     "data": {
      "text/plain": [
       "False"
      ]
     },
     "execution_count": 14,
     "metadata": {},
     "output_type": "execute_result"
    }
   ],
   "source": [
    "list_1 is list_2"
   ]
  },
  {
   "cell_type": "markdown",
   "id": "63dee7ae",
   "metadata": {},
   "source": [
    "The last statement is **False** because the memory address is not the same!\n",
    "\n",
    "**They are not the same object!!**\n",
    "\n",
    "<img width=\"250\" src=\"Images/id2.png\">"
   ]
  },
  {
   "cell_type": "code",
   "execution_count": 15,
   "id": "8e6ae301",
   "metadata": {},
   "outputs": [],
   "source": [
    "list_3 = list_1"
   ]
  },
  {
   "cell_type": "code",
   "execution_count": 16,
   "id": "2f33fcc3",
   "metadata": {},
   "outputs": [],
   "source": [
    "list_3.append(4)"
   ]
  },
  {
   "cell_type": "code",
   "execution_count": 17,
   "id": "1ed3e5e7",
   "metadata": {},
   "outputs": [
    {
     "data": {
      "text/plain": [
       "[1, 2, 3, 7]"
      ]
     },
     "execution_count": 17,
     "metadata": {},
     "output_type": "execute_result"
    }
   ],
   "source": [
    "list_3"
   ]
  },
  {
   "cell_type": "code",
   "execution_count": 18,
   "id": "f9dc7d7f",
   "metadata": {},
   "outputs": [
    {
     "data": {
      "text/plain": [
       "True"
      ]
     },
     "execution_count": 18,
     "metadata": {},
     "output_type": "execute_result"
    }
   ],
   "source": [
    "list_1 is list_3"
   ]
  },
  {
   "cell_type": "markdown",
   "id": "699abadc",
   "metadata": {},
   "source": [
    "The last statement is **True** because the memory address is actally the same!\n",
    "\n",
    "**They are the same object!!**\n",
    "\n",
    "<img width=\"300\" src=\"Images/id1.png\">"
   ]
  },
  {
   "cell_type": "code",
   "execution_count": 19,
   "id": "78088d1b",
   "metadata": {},
   "outputs": [
    {
     "data": {
      "text/plain": [
       "[1, 2, 3, 7]"
      ]
     },
     "execution_count": 19,
     "metadata": {},
     "output_type": "execute_result"
    }
   ],
   "source": [
    "list_1"
   ]
  },
  {
   "cell_type": "markdown",
   "id": "f4cc577a",
   "metadata": {},
   "source": [
    "Since they are the same object, when I add the 7 to `list_3`, it automatically gets added to `list_1` as well."
   ]
  },
  {
   "cell_type": "code",
   "execution_count": 20,
   "id": "d969cded",
   "metadata": {},
   "outputs": [
    {
     "data": {
      "text/plain": [
       "2676693731008"
      ]
     },
     "execution_count": 20,
     "metadata": {},
     "output_type": "execute_result"
    }
   ],
   "source": [
    "id(list_1)"
   ]
  },
  {
   "cell_type": "code",
   "execution_count": 21,
   "id": "1a9f18a8",
   "metadata": {},
   "outputs": [
    {
     "data": {
      "text/plain": [
       "2676693731008"
      ]
     },
     "execution_count": 21,
     "metadata": {},
     "output_type": "execute_result"
    }
   ],
   "source": [
    "id(list_3)"
   ]
  },
  {
   "cell_type": "code",
   "execution_count": 22,
   "id": "f033e52f",
   "metadata": {},
   "outputs": [
    {
     "data": {
      "text/plain": [
       "2676693790080"
      ]
     },
     "execution_count": 22,
     "metadata": {},
     "output_type": "execute_result"
    }
   ],
   "source": [
    "id(list_2)"
   ]
  },
  {
   "cell_type": "markdown",
   "id": "7124e34c",
   "metadata": {},
   "source": [
    "<img width=300 src=\"https://media.giphy.com/media/lKXEBR8m1jWso/giphy.gif\">"
   ]
  }
 ],
 "metadata": {
  "kernelspec": {
   "display_name": "Python 3 (ipykernel)",
   "language": "python",
   "name": "python3"
  },
  "language_info": {
   "codemirror_mode": {
    "name": "ipython",
    "version": 3
   },
   "file_extension": ".py",
   "mimetype": "text/x-python",
   "name": "python",
   "nbconvert_exporter": "python",
   "pygments_lexer": "ipython3",
   "version": "3.9.12"
  },
  "toc": {
   "base_numbering": 1,
   "nav_menu": {},
   "number_sections": true,
   "sideBar": true,
   "skip_h1_title": true,
   "title_cell": "Table of Contents",
   "title_sidebar": "Contents",
   "toc_cell": false,
   "toc_position": {
    "height": "749px",
    "left": "219px",
    "top": "218.125px",
    "width": "258.991px"
   },
   "toc_section_display": true,
   "toc_window_display": true
  }
 },
 "nbformat": 4,
 "nbformat_minor": 5
}
